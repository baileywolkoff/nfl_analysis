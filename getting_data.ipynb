{
 "cells": [
  {
   "cell_type": "markdown",
   "id": "015a20b1-6bd8-4c6c-94f2-a2dd3a4c5eda",
   "metadata": {},
   "source": [
    "# Loading Data (Scope Approval)"
   ]
  },
  {
   "cell_type": "code",
   "execution_count": 1,
   "id": "a1784bfb-9d31-4104-9ed8-837d829a8a8b",
   "metadata": {},
   "outputs": [],
   "source": [
    "# Using Pandas and sportsipy library\n",
    "import pandas as pd\n",
    "from sportsipy.nfl.boxscore import Boxscore, Boxscores\n",
    "from sportsipy.nfl.teams import Team, Teams\n",
    "from sportsipy.nfl.player import AbstractPlayer"
   ]
  },
  {
   "cell_type": "markdown",
   "id": "670a8618-338c-4a6a-bbbc-769163304855",
   "metadata": {},
   "source": [
    "### Exploring the Different Data Sets\n",
    "There is alot of data in these libraries to sift through. "
   ]
  },
  {
   "cell_type": "code",
   "execution_count": 2,
   "id": "6e0a7a87-e07e-4dbe-b383-c80dc0a49797",
   "metadata": {},
   "outputs": [
    {
     "name": "stdout",
     "output_type": "stream",
     "text": [
      "Dallas Cowboys (DAL) - 2021\n",
      "Tampa Bay Buccaneers (TAM) - 2021\n",
      "Buffalo Bills (BUF) - 2021\n",
      "Kansas City Chiefs (KAN) - 2021\n",
      "Los Angeles Chargers (SDG) - 2021\n",
      "New England Patriots (NWE) - 2021\n",
      "Cincinnati Bengals (CIN) - 2021\n",
      "Los Angeles Rams (RAM) - 2021\n",
      "Indianapolis Colts (CLT) - 2021\n",
      "Green Bay Packers (GNB) - 2021\n",
      "Arizona Cardinals (CRD) - 2021\n",
      "Philadelphia Eagles (PHI) - 2021\n",
      "San Francisco 49ers (SFO) - 2021\n",
      "Minnesota Vikings (MIN) - 2021\n",
      "Tennessee Titans (OTI) - 2021\n",
      "Seattle Seahawks (SEA) - 2021\n",
      "Baltimore Ravens (RAV) - 2021\n",
      "Las Vegas Raiders (RAI) - 2021\n",
      "New Orleans Saints (NOR) - 2021\n",
      "Cleveland Browns (CLE) - 2021\n",
      "Pittsburgh Steelers (PIT) - 2021\n",
      "Miami Dolphins (MIA) - 2021\n",
      "Denver Broncos (DEN) - 2021\n",
      "Washington Football Team (WAS) - 2021\n",
      "Detroit Lions (DET) - 2021\n",
      "Atlanta Falcons (ATL) - 2021\n",
      "Chicago Bears (CHI) - 2021\n",
      "New York Jets (NYJ) - 2021\n",
      "Carolina Panthers (CAR) - 2021\n",
      "Houston Texans (HTX) - 2021\n",
      "New York Giants (NYG) - 2021\n",
      "Jacksonville Jaguars (JAX) - 2021\n"
     ]
    }
   ],
   "source": [
    "teams = Teams()\n",
    "for team in teams:\n",
    "    print(team)"
   ]
  },
  {
   "cell_type": "code",
   "execution_count": 3,
   "id": "36440031-b9e8-48ad-96a4-397cb0dee468",
   "metadata": {},
   "outputs": [],
   "source": [
    "boxscores_2021_w1 = Boxscores(year=2021, week=1)\n",
    "games = boxscores_2021_w1.games"
   ]
  },
  {
   "cell_type": "markdown",
   "id": "e8b6f168-5c9b-49ea-82b3-587c64c2f3e3",
   "metadata": {},
   "source": [
    "I need to find a way, to list through all data in boxscores for that week, extract the Boxscore_ID, instantiate a Boxscore() Class with that ID, and add it to a running dataframe containing all Games."
   ]
  },
  {
   "cell_type": "code",
   "execution_count": 4,
   "id": "b1d5d84f-243d-49a4-b1ed-98ec76100090",
   "metadata": {},
   "outputs": [
    {
     "name": "stdout",
     "output_type": "stream",
     "text": [
      "<class 'dict'>\n",
      "dict_keys(['1-2021'])\n"
     ]
    }
   ],
   "source": [
    "# Should be a dictionary object, containing keys that are the week and year\n",
    "print(type(games))\n",
    "print(games.keys())"
   ]
  },
  {
   "cell_type": "code",
   "execution_count": 5,
   "id": "162e21c2-8b84-4be8-a9d4-03d50c987003",
   "metadata": {},
   "outputs": [
    {
     "name": "stdout",
     "output_type": "stream",
     "text": [
      "<class 'list'>\n",
      "16\n"
     ]
    }
   ],
   "source": [
    "# Go into that key then\n",
    "print(type(games['1-2021']))\n",
    "print(len(games['1-2021']))\n",
    "# print(games['1-2021'][0])"
   ]
  },
  {
   "cell_type": "code",
   "execution_count": 6,
   "id": "d6055e4b-e7e3-45c5-9af5-444c602ed82d",
   "metadata": {},
   "outputs": [
    {
     "name": "stdout",
     "output_type": "stream",
     "text": [
      "<class 'dict'>\n",
      "dict_keys(['boxscore', 'away_name', 'away_abbr', 'away_score', 'home_name', 'home_abbr', 'home_score', 'winning_name', 'winning_abbr', 'losing_name', 'losing_abbr'])\n",
      "<class 'str'>\n",
      "202109090tam\n"
     ]
    }
   ],
   "source": [
    "# Keep diving deeper\n",
    "print(type(games['1-2021'][0]))\n",
    "print(games['1-2021'][0].keys())\n",
    "print(type(games['1-2021'][0]['boxscore']))\n",
    "print(games['1-2021'][0]['boxscore'][:12])"
   ]
  },
  {
   "cell_type": "code",
   "execution_count": 7,
   "id": "d0b12510-bbc4-4eda-b425-9588d8207217",
   "metadata": {},
   "outputs": [],
   "source": [
    "game = Boxscore('202109090tam').dataframe"
   ]
  },
  {
   "cell_type": "code",
   "execution_count": 8,
   "id": "d34ec747-f90b-4420-8e5c-3990099b82b0",
   "metadata": {},
   "outputs": [
    {
     "data": {
      "text/html": [
       "<div>\n",
       "<style scoped>\n",
       "    .dataframe tbody tr th:only-of-type {\n",
       "        vertical-align: middle;\n",
       "    }\n",
       "\n",
       "    .dataframe tbody tr th {\n",
       "        vertical-align: top;\n",
       "    }\n",
       "\n",
       "    .dataframe thead th {\n",
       "        text-align: right;\n",
       "    }\n",
       "</style>\n",
       "<table border=\"1\" class=\"dataframe\">\n",
       "  <thead>\n",
       "    <tr style=\"text-align: right;\">\n",
       "      <th></th>\n",
       "      <th>attendance</th>\n",
       "      <th>away_first_downs</th>\n",
       "      <th>away_fourth_down_attempts</th>\n",
       "      <th>away_fourth_down_conversions</th>\n",
       "      <th>away_fumbles</th>\n",
       "      <th>away_fumbles_lost</th>\n",
       "      <th>away_interceptions</th>\n",
       "      <th>away_net_pass_yards</th>\n",
       "      <th>away_pass_attempts</th>\n",
       "      <th>away_pass_completions</th>\n",
       "      <th>...</th>\n",
       "      <th>roof</th>\n",
       "      <th>stadium</th>\n",
       "      <th>surface</th>\n",
       "      <th>time</th>\n",
       "      <th>vegas_line</th>\n",
       "      <th>weather</th>\n",
       "      <th>winner</th>\n",
       "      <th>winning_abbr</th>\n",
       "      <th>winning_name</th>\n",
       "      <th>won_toss</th>\n",
       "    </tr>\n",
       "  </thead>\n",
       "  <tbody>\n",
       "    <tr>\n",
       "      <th>202109090tam</th>\n",
       "      <td>65566</td>\n",
       "      <td>30</td>\n",
       "      <td>0</td>\n",
       "      <td>0</td>\n",
       "      <td>1</td>\n",
       "      <td>0</td>\n",
       "      <td>1</td>\n",
       "      <td>391</td>\n",
       "      <td>58</td>\n",
       "      <td>42</td>\n",
       "      <td>...</td>\n",
       "      <td>Outdoors</td>\n",
       "      <td>Raymond James Stadium</td>\n",
       "      <td>Grass</td>\n",
       "      <td>8:20pm</td>\n",
       "      <td>Tampa Bay Buccaneers -8.5</td>\n",
       "      <td>82 degrees, relative humidity 85%, wind 9 mph</td>\n",
       "      <td>Home</td>\n",
       "      <td>TAM</td>\n",
       "      <td>Tampa Bay Buccaneers\\n31\\n1-0\\nNext Game\\nCoac...</td>\n",
       "      <td>Cowboys (deferred)</td>\n",
       "    </tr>\n",
       "  </tbody>\n",
       "</table>\n",
       "<p>1 rows × 65 columns</p>\n",
       "</div>"
      ],
      "text/plain": [
       "              attendance  away_first_downs  away_fourth_down_attempts  \\\n",
       "202109090tam       65566                30                          0   \n",
       "\n",
       "              away_fourth_down_conversions  away_fumbles  away_fumbles_lost  \\\n",
       "202109090tam                             0             1                  0   \n",
       "\n",
       "              away_interceptions  away_net_pass_yards  away_pass_attempts  \\\n",
       "202109090tam                   1                  391                  58   \n",
       "\n",
       "              away_pass_completions  ...      roof                stadium  \\\n",
       "202109090tam                     42  ...  Outdoors  Raymond James Stadium   \n",
       "\n",
       "              surface    time                 vegas_line  \\\n",
       "202109090tam    Grass  8:20pm  Tampa Bay Buccaneers -8.5   \n",
       "\n",
       "                                                    weather  winner  \\\n",
       "202109090tam  82 degrees, relative humidity 85%, wind 9 mph    Home   \n",
       "\n",
       "              winning_abbr                                       winning_name  \\\n",
       "202109090tam           TAM  Tampa Bay Buccaneers\\n31\\n1-0\\nNext Game\\nCoac...   \n",
       "\n",
       "                        won_toss  \n",
       "202109090tam  Cowboys (deferred)  \n",
       "\n",
       "[1 rows x 65 columns]"
      ]
     },
     "execution_count": 8,
     "metadata": {},
     "output_type": "execute_result"
    }
   ],
   "source": [
    "game.head()"
   ]
  },
  {
   "cell_type": "markdown",
   "id": "167486aa-19f0-44fe-970c-980dd1d1c6c8",
   "metadata": {},
   "source": [
    "### Let's Create Single Dataframe for all games in Week 1 of 2021"
   ]
  },
  {
   "cell_type": "code",
   "execution_count": 9,
   "id": "bcbd59d1-82e4-4753-b2db-355934820b8b",
   "metadata": {},
   "outputs": [],
   "source": [
    "games_012021 = Boxscores(week=1,year=2021).games\n",
    "games_012021 = games_012021['1-2021'] # Dove into that week (of the dict)"
   ]
  },
  {
   "cell_type": "code",
   "execution_count": 10,
   "id": "3d76cf97-d2c2-400e-b12a-3440feb697ad",
   "metadata": {},
   "outputs": [],
   "source": [
    "n_games = len(games_012021) # The number of games played in week 1 of 2021"
   ]
  },
  {
   "cell_type": "code",
   "execution_count": 11,
   "id": "de0fd84b-1551-40b9-9736-2ec7b45a90df",
   "metadata": {
    "tags": []
   },
   "outputs": [
    {
     "name": "stdout",
     "output_type": "stream",
     "text": [
      "Completed Game Number: 1\n",
      "Completed Game Number: 2\n",
      "Completed Game Number: 3\n",
      "Completed Game Number: 4\n",
      "Completed Game Number: 5\n",
      "Completed Game Number: 6\n",
      "Completed Game Number: 7\n",
      "Completed Game Number: 8\n",
      "Completed Game Number: 9\n",
      "Completed Game Number: 10\n",
      "Completed Game Number: 11\n",
      "Completed Game Number: 12\n",
      "Completed Game Number: 13\n",
      "Completed Game Number: 14\n",
      "Completed Game Number: 15\n",
      "Completed Game Number: 16\n"
     ]
    },
    {
     "data": {
      "text/html": [
       "<div>\n",
       "<style scoped>\n",
       "    .dataframe tbody tr th:only-of-type {\n",
       "        vertical-align: middle;\n",
       "    }\n",
       "\n",
       "    .dataframe tbody tr th {\n",
       "        vertical-align: top;\n",
       "    }\n",
       "\n",
       "    .dataframe thead th {\n",
       "        text-align: right;\n",
       "    }\n",
       "</style>\n",
       "<table border=\"1\" class=\"dataframe\">\n",
       "  <thead>\n",
       "    <tr style=\"text-align: right;\">\n",
       "      <th></th>\n",
       "      <th>attendance</th>\n",
       "      <th>away_first_downs</th>\n",
       "      <th>away_fourth_down_attempts</th>\n",
       "      <th>away_fourth_down_conversions</th>\n",
       "      <th>away_fumbles</th>\n",
       "      <th>away_fumbles_lost</th>\n",
       "      <th>away_interceptions</th>\n",
       "      <th>away_net_pass_yards</th>\n",
       "      <th>away_pass_attempts</th>\n",
       "      <th>away_pass_completions</th>\n",
       "      <th>...</th>\n",
       "      <th>roof</th>\n",
       "      <th>stadium</th>\n",
       "      <th>surface</th>\n",
       "      <th>time</th>\n",
       "      <th>vegas_line</th>\n",
       "      <th>weather</th>\n",
       "      <th>winner</th>\n",
       "      <th>winning_abbr</th>\n",
       "      <th>winning_name</th>\n",
       "      <th>won_toss</th>\n",
       "    </tr>\n",
       "  </thead>\n",
       "  <tbody>\n",
       "    <tr>\n",
       "      <th>202109090tam</th>\n",
       "      <td>65566</td>\n",
       "      <td>30</td>\n",
       "      <td>0</td>\n",
       "      <td>0</td>\n",
       "      <td>1</td>\n",
       "      <td>0</td>\n",
       "      <td>1</td>\n",
       "      <td>391</td>\n",
       "      <td>58</td>\n",
       "      <td>42</td>\n",
       "      <td>...</td>\n",
       "      <td>Outdoors</td>\n",
       "      <td>Raymond James Stadium</td>\n",
       "      <td>Grass</td>\n",
       "      <td>8:20pm</td>\n",
       "      <td>Tampa Bay Buccaneers -8.5</td>\n",
       "      <td>82 degrees, relative humidity 85%, wind 9 mph</td>\n",
       "      <td>Home</td>\n",
       "      <td>TAM</td>\n",
       "      <td>Tampa Bay Buccaneers\\n31\\n1-0\\nNext Game\\nCoac...</td>\n",
       "      <td>Cowboys (deferred)</td>\n",
       "    </tr>\n",
       "    <tr>\n",
       "      <th>202109120atl</th>\n",
       "      <td>68633</td>\n",
       "      <td>24</td>\n",
       "      <td>2</td>\n",
       "      <td>0</td>\n",
       "      <td>2</td>\n",
       "      <td>0</td>\n",
       "      <td>0</td>\n",
       "      <td>261</td>\n",
       "      <td>35</td>\n",
       "      <td>27</td>\n",
       "      <td>...</td>\n",
       "      <td>Retractable Roof (Open)</td>\n",
       "      <td>Mercedes-Benz Stadium</td>\n",
       "      <td>Fieldturf</td>\n",
       "      <td>1:00pm</td>\n",
       "      <td>None</td>\n",
       "      <td>49.0 (under)</td>\n",
       "      <td>Away</td>\n",
       "      <td>PHI</td>\n",
       "      <td>Philadelphia Eagles\\n32\\n1-0\\nNext Game\\nCoach...</td>\n",
       "      <td>Falcons</td>\n",
       "    </tr>\n",
       "    <tr>\n",
       "      <th>202109120buf</th>\n",
       "      <td>69787</td>\n",
       "      <td>16</td>\n",
       "      <td>0</td>\n",
       "      <td>0</td>\n",
       "      <td>1</td>\n",
       "      <td>0</td>\n",
       "      <td>0</td>\n",
       "      <td>177</td>\n",
       "      <td>32</td>\n",
       "      <td>18</td>\n",
       "      <td>...</td>\n",
       "      <td>Outdoors</td>\n",
       "      <td>Highmark Stadium</td>\n",
       "      <td>A_Turf</td>\n",
       "      <td>1:00pm</td>\n",
       "      <td>Buffalo Bills -6.5</td>\n",
       "      <td>73 degrees, relative humidity 79%, wind 17 mph</td>\n",
       "      <td>Away</td>\n",
       "      <td>PIT</td>\n",
       "      <td>Pittsburgh Steelers\\n23\\n1-0\\nNext Game\\nCoach...</td>\n",
       "      <td>Steelers (deferred)</td>\n",
       "    </tr>\n",
       "    <tr>\n",
       "      <th>202109120car</th>\n",
       "      <td>70211</td>\n",
       "      <td>16</td>\n",
       "      <td>2</td>\n",
       "      <td>1</td>\n",
       "      <td>1</td>\n",
       "      <td>0</td>\n",
       "      <td>1</td>\n",
       "      <td>207</td>\n",
       "      <td>37</td>\n",
       "      <td>20</td>\n",
       "      <td>...</td>\n",
       "      <td>Outdoors</td>\n",
       "      <td>Bank of America Stadium</td>\n",
       "      <td>Grass</td>\n",
       "      <td>1:00pm</td>\n",
       "      <td>Carolina Panthers -4.0</td>\n",
       "      <td>81 degrees, relative humidity 51%, no wind</td>\n",
       "      <td>Home</td>\n",
       "      <td>CAR</td>\n",
       "      <td>Carolina Panthers\\n19\\n1-0\\nNext Game\\nCoach: ...</td>\n",
       "      <td>Panthers (deferred)</td>\n",
       "    </tr>\n",
       "    <tr>\n",
       "      <th>202109120cin</th>\n",
       "      <td>56525</td>\n",
       "      <td>24</td>\n",
       "      <td>2</td>\n",
       "      <td>2</td>\n",
       "      <td>1</td>\n",
       "      <td>1</td>\n",
       "      <td>0</td>\n",
       "      <td>336</td>\n",
       "      <td>50</td>\n",
       "      <td>37</td>\n",
       "      <td>...</td>\n",
       "      <td>Outdoors</td>\n",
       "      <td>Paul Brown Stadium</td>\n",
       "      <td>Fieldturf</td>\n",
       "      <td>1:00pm</td>\n",
       "      <td>None</td>\n",
       "      <td>47.5 (over)</td>\n",
       "      <td>Home</td>\n",
       "      <td>CIN</td>\n",
       "      <td>Cincinnati Bengals\\n27\\n1-0\\nNext Game\\nCoach:...</td>\n",
       "      <td>Bengals (deferred)</td>\n",
       "    </tr>\n",
       "  </tbody>\n",
       "</table>\n",
       "<p>5 rows × 65 columns</p>\n",
       "</div>"
      ],
      "text/plain": [
       "              attendance  away_first_downs  away_fourth_down_attempts  \\\n",
       "202109090tam       65566                30                          0   \n",
       "202109120atl       68633                24                          2   \n",
       "202109120buf       69787                16                          0   \n",
       "202109120car       70211                16                          2   \n",
       "202109120cin       56525                24                          2   \n",
       "\n",
       "              away_fourth_down_conversions  away_fumbles  away_fumbles_lost  \\\n",
       "202109090tam                             0             1                  0   \n",
       "202109120atl                             0             2                  0   \n",
       "202109120buf                             0             1                  0   \n",
       "202109120car                             1             1                  0   \n",
       "202109120cin                             2             1                  1   \n",
       "\n",
       "              away_interceptions  away_net_pass_yards  away_pass_attempts  \\\n",
       "202109090tam                   1                  391                  58   \n",
       "202109120atl                   0                  261                  35   \n",
       "202109120buf                   0                  177                  32   \n",
       "202109120car                   1                  207                  37   \n",
       "202109120cin                   0                  336                  50   \n",
       "\n",
       "              away_pass_completions  ...                     roof  \\\n",
       "202109090tam                     42  ...                 Outdoors   \n",
       "202109120atl                     27  ...  Retractable Roof (Open)   \n",
       "202109120buf                     18  ...                 Outdoors   \n",
       "202109120car                     20  ...                 Outdoors   \n",
       "202109120cin                     37  ...                 Outdoors   \n",
       "\n",
       "                              stadium    surface    time  \\\n",
       "202109090tam    Raymond James Stadium      Grass  8:20pm   \n",
       "202109120atl    Mercedes-Benz Stadium  Fieldturf  1:00pm   \n",
       "202109120buf         Highmark Stadium     A_Turf  1:00pm   \n",
       "202109120car  Bank of America Stadium      Grass  1:00pm   \n",
       "202109120cin       Paul Brown Stadium  Fieldturf  1:00pm   \n",
       "\n",
       "                             vegas_line  \\\n",
       "202109090tam  Tampa Bay Buccaneers -8.5   \n",
       "202109120atl                       None   \n",
       "202109120buf         Buffalo Bills -6.5   \n",
       "202109120car     Carolina Panthers -4.0   \n",
       "202109120cin                       None   \n",
       "\n",
       "                                                     weather  winner  \\\n",
       "202109090tam   82 degrees, relative humidity 85%, wind 9 mph    Home   \n",
       "202109120atl                                    49.0 (under)    Away   \n",
       "202109120buf  73 degrees, relative humidity 79%, wind 17 mph    Away   \n",
       "202109120car      81 degrees, relative humidity 51%, no wind    Home   \n",
       "202109120cin                                     47.5 (over)    Home   \n",
       "\n",
       "              winning_abbr                                       winning_name  \\\n",
       "202109090tam           TAM  Tampa Bay Buccaneers\\n31\\n1-0\\nNext Game\\nCoac...   \n",
       "202109120atl           PHI  Philadelphia Eagles\\n32\\n1-0\\nNext Game\\nCoach...   \n",
       "202109120buf           PIT  Pittsburgh Steelers\\n23\\n1-0\\nNext Game\\nCoach...   \n",
       "202109120car           CAR  Carolina Panthers\\n19\\n1-0\\nNext Game\\nCoach: ...   \n",
       "202109120cin           CIN  Cincinnati Bengals\\n27\\n1-0\\nNext Game\\nCoach:...   \n",
       "\n",
       "                         won_toss  \n",
       "202109090tam   Cowboys (deferred)  \n",
       "202109120atl              Falcons  \n",
       "202109120buf  Steelers (deferred)  \n",
       "202109120car  Panthers (deferred)  \n",
       "202109120cin   Bengals (deferred)  \n",
       "\n",
       "[5 rows x 65 columns]"
      ]
     },
     "execution_count": 11,
     "metadata": {},
     "output_type": "execute_result"
    }
   ],
   "source": [
    "df = pd.DataFrame()\n",
    "for i in range(n_games): #iterate through each game\n",
    "    game_id = games_012021[i]['boxscore'][:12]\n",
    "    game_bs = Boxscore(game_id)\n",
    "    game_df = game_bs.dataframe\n",
    "    df = pd.concat([df,game_df], axis=0)\n",
    "    print(f\"Completed Game Number: {i+1}\")\n",
    "df.head()"
   ]
  },
  {
   "cell_type": "code",
   "execution_count": 12,
   "id": "9d949ce1-089b-443a-ad17-8c2acac84939",
   "metadata": {},
   "outputs": [
    {
     "data": {
      "text/plain": [
       "Index(['attendance', 'away_first_downs', 'away_fourth_down_attempts',\n",
       "       'away_fourth_down_conversions', 'away_fumbles', 'away_fumbles_lost',\n",
       "       'away_interceptions', 'away_net_pass_yards', 'away_pass_attempts',\n",
       "       'away_pass_completions', 'away_pass_touchdowns', 'away_pass_yards',\n",
       "       'away_penalties', 'away_points', 'away_rush_attempts',\n",
       "       'away_rush_touchdowns', 'away_rush_yards', 'away_third_down_attempts',\n",
       "       'away_third_down_conversions', 'away_time_of_possession',\n",
       "       'away_times_sacked', 'away_total_yards', 'away_turnovers',\n",
       "       'away_yards_from_penalties', 'away_yards_lost_from_sacks', 'date',\n",
       "       'datetime', 'duration', 'home_first_downs', 'home_fourth_down_attempts',\n",
       "       'home_fourth_down_conversions', 'home_fumbles', 'home_fumbles_lost',\n",
       "       'home_interceptions', 'home_net_pass_yards', 'home_pass_attempts',\n",
       "       'home_pass_completions', 'home_pass_touchdowns', 'home_pass_yards',\n",
       "       'home_penalties', 'home_points', 'home_rush_attempts',\n",
       "       'home_rush_touchdowns', 'home_rush_yards', 'home_third_down_attempts',\n",
       "       'home_third_down_conversions', 'home_time_of_possession',\n",
       "       'home_times_sacked', 'home_total_yards', 'home_turnovers',\n",
       "       'home_yards_from_penalties', 'home_yards_lost_from_sacks',\n",
       "       'losing_abbr', 'losing_name', 'over_under', 'roof', 'stadium',\n",
       "       'surface', 'time', 'vegas_line', 'weather', 'winner', 'winning_abbr',\n",
       "       'winning_name', 'won_toss'],\n",
       "      dtype='object')"
      ]
     },
     "execution_count": 12,
     "metadata": {},
     "output_type": "execute_result"
    }
   ],
   "source": [
    "df.columns"
   ]
  },
  {
   "cell_type": "markdown",
   "id": "0a4b2897-b0c6-44ae-a8cb-75588d46d352",
   "metadata": {},
   "source": [
    "May need to extract 'home team' and 'away team' from the Boxscores Class"
   ]
  },
  {
   "cell_type": "code",
   "execution_count": null,
   "id": "26328828-52b4-413f-b138-1d922e73ca77",
   "metadata": {},
   "outputs": [],
   "source": []
  }
 ],
 "metadata": {
  "kernelspec": {
   "display_name": "Python 3 (ipykernel)",
   "language": "python",
   "name": "python3"
  },
  "language_info": {
   "codemirror_mode": {
    "name": "ipython",
    "version": 3
   },
   "file_extension": ".py",
   "mimetype": "text/x-python",
   "name": "python",
   "nbconvert_exporter": "python",
   "pygments_lexer": "ipython3",
   "version": "3.8.13"
  }
 },
 "nbformat": 4,
 "nbformat_minor": 5
}
