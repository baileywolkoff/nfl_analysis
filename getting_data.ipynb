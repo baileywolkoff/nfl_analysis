{
 "cells": [
  {
   "cell_type": "markdown",
   "id": "015a20b1-6bd8-4c6c-94f2-a2dd3a4c5eda",
   "metadata": {},
   "source": [
    "# Loading Data (Scope Approval)"
   ]
  },
  {
   "cell_type": "code",
   "execution_count": 44,
   "id": "a1784bfb-9d31-4104-9ed8-837d829a8a8b",
   "metadata": {},
   "outputs": [],
   "source": [
    "# Using Pandas and sportsipy library\n",
    "import pandas as pd\n",
    "from sportsipy.nfl.boxscore import Boxscore, Boxscores\n",
    "from sportsipy.nfl.teams import Team, Teams\n",
    "from sportsipy.nfl.player import AbstractPlayer"
   ]
  },
  {
   "cell_type": "markdown",
   "id": "670a8618-338c-4a6a-bbbc-769163304855",
   "metadata": {},
   "source": [
    "### Exploring the Different Data Sets\n",
    "There is alot of data in these libraries to sift through. "
   ]
  },
  {
   "cell_type": "code",
   "execution_count": 26,
   "id": "6e0a7a87-e07e-4dbe-b383-c80dc0a49797",
   "metadata": {},
   "outputs": [
    {
     "name": "stdout",
     "output_type": "stream",
     "text": [
      "Dallas Cowboys (DAL) - 2021\n",
      "Tampa Bay Buccaneers (TAM) - 2021\n",
      "Buffalo Bills (BUF) - 2021\n",
      "Kansas City Chiefs (KAN) - 2021\n",
      "Los Angeles Chargers (SDG) - 2021\n",
      "New England Patriots (NWE) - 2021\n",
      "Cincinnati Bengals (CIN) - 2021\n",
      "Los Angeles Rams (RAM) - 2021\n",
      "Indianapolis Colts (CLT) - 2021\n",
      "Green Bay Packers (GNB) - 2021\n",
      "Arizona Cardinals (CRD) - 2021\n",
      "Philadelphia Eagles (PHI) - 2021\n",
      "San Francisco 49ers (SFO) - 2021\n",
      "Minnesota Vikings (MIN) - 2021\n",
      "Tennessee Titans (OTI) - 2021\n",
      "Seattle Seahawks (SEA) - 2021\n",
      "Baltimore Ravens (RAV) - 2021\n",
      "Las Vegas Raiders (RAI) - 2021\n",
      "New Orleans Saints (NOR) - 2021\n",
      "Cleveland Browns (CLE) - 2021\n",
      "Pittsburgh Steelers (PIT) - 2021\n",
      "Miami Dolphins (MIA) - 2021\n",
      "Denver Broncos (DEN) - 2021\n",
      "Washington Football Team (WAS) - 2021\n",
      "Detroit Lions (DET) - 2021\n",
      "Atlanta Falcons (ATL) - 2021\n",
      "Chicago Bears (CHI) - 2021\n",
      "New York Jets (NYJ) - 2021\n",
      "Carolina Panthers (CAR) - 2021\n",
      "Houston Texans (HTX) - 2021\n",
      "New York Giants (NYG) - 2021\n",
      "Jacksonville Jaguars (JAX) - 2021\n"
     ]
    }
   ],
   "source": [
    "teams = Teams()\n",
    "for team in teams:\n",
    "    print(team)"
   ]
  },
  {
   "cell_type": "code",
   "execution_count": 46,
   "id": "36440031-b9e8-48ad-96a4-397cb0dee468",
   "metadata": {},
   "outputs": [],
   "source": [
    "boxscores_2021_w1 = Boxscores(year=2021, week=1)\n",
    "games = boxscores_2021_w1.games"
   ]
  },
  {
   "cell_type": "markdown",
   "id": "e8b6f168-5c9b-49ea-82b3-587c64c2f3e3",
   "metadata": {},
   "source": [
    "I need to find a way, to list through all data in boxscores for that week, extract the Boxscore_ID, instantiate a Boxscore() Class with that ID, and add it to a running dataframe containing all Games."
   ]
  },
  {
   "cell_type": "code",
   "execution_count": 47,
   "id": "b1d5d84f-243d-49a4-b1ed-98ec76100090",
   "metadata": {},
   "outputs": [
    {
     "name": "stdout",
     "output_type": "stream",
     "text": [
      "<class 'dict'>\n",
      "dict_keys(['1-2021'])\n"
     ]
    }
   ],
   "source": [
    "# Should be a dictionary object, containing keys that are the week and year\n",
    "print(type(games))\n",
    "print(games.keys())"
   ]
  },
  {
   "cell_type": "code",
   "execution_count": 48,
   "id": "162e21c2-8b84-4be8-a9d4-03d50c987003",
   "metadata": {},
   "outputs": [
    {
     "name": "stdout",
     "output_type": "stream",
     "text": [
      "<class 'list'>\n",
      "16\n"
     ]
    }
   ],
   "source": [
    "# Go into that key then\n",
    "print(type(games['1-2021']))\n",
    "print(len(games['1-2021']))\n",
    "# print(games['1-2021'][0])"
   ]
  },
  {
   "cell_type": "code",
   "execution_count": 69,
   "id": "d6055e4b-e7e3-45c5-9af5-444c602ed82d",
   "metadata": {},
   "outputs": [
    {
     "name": "stdout",
     "output_type": "stream",
     "text": [
      "<class 'dict'>\n",
      "dict_keys(['boxscore', 'away_name', 'away_abbr', 'away_score', 'home_name', 'home_abbr', 'home_score', 'winning_name', 'winning_abbr', 'losing_name', 'losing_abbr'])\n",
      "<class 'str'>\n",
      "202109090tam\n"
     ]
    }
   ],
   "source": [
    "# Keep diving deeper\n",
    "print(type(games['1-2021'][0]))\n",
    "print(games['1-2021'][0].keys())\n",
    "print(type(games['1-2021'][0]['boxscore']))\n",
    "print(games['1-2021'][0]['boxscore'][:12])"
   ]
  },
  {
   "cell_type": "code",
   "execution_count": 63,
   "id": "d0b12510-bbc4-4eda-b425-9588d8207217",
   "metadata": {},
   "outputs": [],
   "source": [
    "game = Boxscore('202109090tam').dataframe"
   ]
  },
  {
   "cell_type": "code",
   "execution_count": 64,
   "id": "d34ec747-f90b-4420-8e5c-3990099b82b0",
   "metadata": {},
   "outputs": [
    {
     "data": {
      "text/html": [
       "<div>\n",
       "<style scoped>\n",
       "    .dataframe tbody tr th:only-of-type {\n",
       "        vertical-align: middle;\n",
       "    }\n",
       "\n",
       "    .dataframe tbody tr th {\n",
       "        vertical-align: top;\n",
       "    }\n",
       "\n",
       "    .dataframe thead th {\n",
       "        text-align: right;\n",
       "    }\n",
       "</style>\n",
       "<table border=\"1\" class=\"dataframe\">\n",
       "  <thead>\n",
       "    <tr style=\"text-align: right;\">\n",
       "      <th></th>\n",
       "      <th>attendance</th>\n",
       "      <th>away_first_downs</th>\n",
       "      <th>away_fourth_down_attempts</th>\n",
       "      <th>away_fourth_down_conversions</th>\n",
       "      <th>away_fumbles</th>\n",
       "      <th>away_fumbles_lost</th>\n",
       "      <th>away_interceptions</th>\n",
       "      <th>away_net_pass_yards</th>\n",
       "      <th>away_pass_attempts</th>\n",
       "      <th>away_pass_completions</th>\n",
       "      <th>...</th>\n",
       "      <th>roof</th>\n",
       "      <th>stadium</th>\n",
       "      <th>surface</th>\n",
       "      <th>time</th>\n",
       "      <th>vegas_line</th>\n",
       "      <th>weather</th>\n",
       "      <th>winner</th>\n",
       "      <th>winning_abbr</th>\n",
       "      <th>winning_name</th>\n",
       "      <th>won_toss</th>\n",
       "    </tr>\n",
       "  </thead>\n",
       "  <tbody>\n",
       "    <tr>\n",
       "      <th>202109090tam</th>\n",
       "      <td>65566</td>\n",
       "      <td>30</td>\n",
       "      <td>0</td>\n",
       "      <td>0</td>\n",
       "      <td>1</td>\n",
       "      <td>0</td>\n",
       "      <td>1</td>\n",
       "      <td>391</td>\n",
       "      <td>58</td>\n",
       "      <td>42</td>\n",
       "      <td>...</td>\n",
       "      <td>Outdoors</td>\n",
       "      <td>Raymond James Stadium</td>\n",
       "      <td>Grass</td>\n",
       "      <td>8:20pm</td>\n",
       "      <td>Tampa Bay Buccaneers -8.5</td>\n",
       "      <td>82 degrees, relative humidity 85%, wind 9 mph</td>\n",
       "      <td>Home</td>\n",
       "      <td>TAM</td>\n",
       "      <td>Tampa Bay Buccaneers\\n31\\n1-0\\nNext Game\\nCoac...</td>\n",
       "      <td>Cowboys (deferred)</td>\n",
       "    </tr>\n",
       "  </tbody>\n",
       "</table>\n",
       "<p>1 rows × 65 columns</p>\n",
       "</div>"
      ],
      "text/plain": [
       "              attendance  away_first_downs  away_fourth_down_attempts  \\\n",
       "202109090tam       65566                30                          0   \n",
       "\n",
       "              away_fourth_down_conversions  away_fumbles  away_fumbles_lost  \\\n",
       "202109090tam                             0             1                  0   \n",
       "\n",
       "              away_interceptions  away_net_pass_yards  away_pass_attempts  \\\n",
       "202109090tam                   1                  391                  58   \n",
       "\n",
       "              away_pass_completions  ...      roof                stadium  \\\n",
       "202109090tam                     42  ...  Outdoors  Raymond James Stadium   \n",
       "\n",
       "              surface    time                 vegas_line  \\\n",
       "202109090tam    Grass  8:20pm  Tampa Bay Buccaneers -8.5   \n",
       "\n",
       "                                                    weather  winner  \\\n",
       "202109090tam  82 degrees, relative humidity 85%, wind 9 mph    Home   \n",
       "\n",
       "              winning_abbr                                       winning_name  \\\n",
       "202109090tam           TAM  Tampa Bay Buccaneers\\n31\\n1-0\\nNext Game\\nCoac...   \n",
       "\n",
       "                        won_toss  \n",
       "202109090tam  Cowboys (deferred)  \n",
       "\n",
       "[1 rows x 65 columns]"
      ]
     },
     "execution_count": 64,
     "metadata": {},
     "output_type": "execute_result"
    }
   ],
   "source": [
    "game.head()"
   ]
  },
  {
   "cell_type": "markdown",
   "id": "167486aa-19f0-44fe-970c-980dd1d1c6c8",
   "metadata": {},
   "source": [
    "### Let's Create Single Dataframe for all games in Week 1 of 2021"
   ]
  },
  {
   "cell_type": "code",
   "execution_count": 71,
   "id": "bcbd59d1-82e4-4753-b2db-355934820b8b",
   "metadata": {},
   "outputs": [],
   "source": [
    "games_012021 = Boxscores(week=1,year=2021).games\n",
    "games_012021 = games_012021['1-2021'] # Dove into that week (of the dict)"
   ]
  },
  {
   "cell_type": "code",
   "execution_count": 72,
   "id": "3d76cf97-d2c2-400e-b12a-3440feb697ad",
   "metadata": {},
   "outputs": [],
   "source": [
    "n_games = len(games_012021) # The number of games played in week 1 of 2021"
   ]
  },
  {
   "cell_type": "code",
   "execution_count": 98,
   "id": "de0fd84b-1551-40b9-9736-2ec7b45a90df",
   "metadata": {
    "collapsed": true,
    "jupyter": {
     "outputs_hidden": true
    },
    "tags": []
   },
   "outputs": [
    {
     "name": "stdout",
     "output_type": "stream",
     "text": [
      "Completed Game Number: 1\n",
      "Completed Game Number: 2\n",
      "Completed Game Number: 3\n"
     ]
    },
    {
     "ename": "KeyboardInterrupt",
     "evalue": "",
     "output_type": "error",
     "traceback": [
      "\u001b[1;31m---------------------------------------------------------------------------\u001b[0m",
      "\u001b[1;31mXMLSyntaxError\u001b[0m                            Traceback (most recent call last)",
      "File \u001b[1;32m~\\anaconda3\\lib\\site-packages\\pyquery\\pyquery.py:57\u001b[0m, in \u001b[0;36mfromstring\u001b[1;34m(context, parser, custom_parser)\u001b[0m\n\u001b[0;32m     56\u001b[0m \u001b[38;5;28;01mtry\u001b[39;00m:\n\u001b[1;32m---> 57\u001b[0m     result \u001b[38;5;241m=\u001b[39m \u001b[38;5;28;43mgetattr\u001b[39;49m\u001b[43m(\u001b[49m\u001b[43metree\u001b[49m\u001b[43m,\u001b[49m\u001b[43m \u001b[49m\u001b[43mmeth\u001b[49m\u001b[43m)\u001b[49m\u001b[43m(\u001b[49m\u001b[43mcontext\u001b[49m\u001b[43m)\u001b[49m\n\u001b[0;32m     58\u001b[0m \u001b[38;5;28;01mexcept\u001b[39;00m etree\u001b[38;5;241m.\u001b[39mXMLSyntaxError:\n",
      "File \u001b[1;32msrc/lxml/etree.pyx:3252\u001b[0m, in \u001b[0;36mlxml.etree.fromstring\u001b[1;34m()\u001b[0m\n",
      "File \u001b[1;32msrc/lxml/parser.pxi:1913\u001b[0m, in \u001b[0;36mlxml.etree._parseMemoryDocument\u001b[1;34m()\u001b[0m\n",
      "File \u001b[1;32msrc/lxml/parser.pxi:1793\u001b[0m, in \u001b[0;36mlxml.etree._parseDoc\u001b[1;34m()\u001b[0m\n",
      "File \u001b[1;32msrc/lxml/parser.pxi:1082\u001b[0m, in \u001b[0;36mlxml.etree._BaseParser._parseUnicodeDoc\u001b[1;34m()\u001b[0m\n",
      "File \u001b[1;32msrc/lxml/parser.pxi:615\u001b[0m, in \u001b[0;36mlxml.etree._ParserContext._handleParseResultDoc\u001b[1;34m()\u001b[0m\n",
      "File \u001b[1;32msrc/lxml/parser.pxi:725\u001b[0m, in \u001b[0;36mlxml.etree._handleParseResult\u001b[1;34m()\u001b[0m\n",
      "File \u001b[1;32msrc/lxml/parser.pxi:654\u001b[0m, in \u001b[0;36mlxml.etree._raiseParseError\u001b[1;34m()\u001b[0m\n",
      "\u001b[1;31mXMLSyntaxError\u001b[0m: Extra content at the end of the document, line 2, column 1 (<string>, line 2)",
      "\nDuring handling of the above exception, another exception occurred:\n",
      "\u001b[1;31mKeyboardInterrupt\u001b[0m                         Traceback (most recent call last)",
      "Input \u001b[1;32mIn [98]\u001b[0m, in \u001b[0;36m<cell line: 2>\u001b[1;34m()\u001b[0m\n\u001b[0;32m      2\u001b[0m \u001b[38;5;28;01mfor\u001b[39;00m i \u001b[38;5;129;01min\u001b[39;00m \u001b[38;5;28mrange\u001b[39m(n_games): \u001b[38;5;66;03m#iterate through each game\u001b[39;00m\n\u001b[0;32m      3\u001b[0m     game_id \u001b[38;5;241m=\u001b[39m games_012021[i][\u001b[38;5;124m'\u001b[39m\u001b[38;5;124mboxscore\u001b[39m\u001b[38;5;124m'\u001b[39m][:\u001b[38;5;241m12\u001b[39m]\n\u001b[1;32m----> 4\u001b[0m     game_bs \u001b[38;5;241m=\u001b[39m \u001b[43mBoxscore\u001b[49m\u001b[43m(\u001b[49m\u001b[43mgame_id\u001b[49m\u001b[43m)\u001b[49m\n\u001b[0;32m      5\u001b[0m     game_df \u001b[38;5;241m=\u001b[39m game_bs\u001b[38;5;241m.\u001b[39mdataframe\n\u001b[0;32m      6\u001b[0m     df \u001b[38;5;241m=\u001b[39m pd\u001b[38;5;241m.\u001b[39mconcat([df,game_df], axis\u001b[38;5;241m=\u001b[39m\u001b[38;5;241m0\u001b[39m)\n",
      "File \u001b[1;32m~\\anaconda3\\lib\\site-packages\\sportsipy\\nfl\\boxscore.py:296\u001b[0m, in \u001b[0;36mBoxscore.__init__\u001b[1;34m(self, uri)\u001b[0m\n\u001b[0;32m    293\u001b[0m \u001b[38;5;28mself\u001b[39m\u001b[38;5;241m.\u001b[39m_home_fourth_down_attempts \u001b[38;5;241m=\u001b[39m \u001b[38;5;28;01mNone\u001b[39;00m\n\u001b[0;32m    294\u001b[0m \u001b[38;5;28mself\u001b[39m\u001b[38;5;241m.\u001b[39m_home_time_of_possession \u001b[38;5;241m=\u001b[39m \u001b[38;5;28;01mNone\u001b[39;00m\n\u001b[1;32m--> 296\u001b[0m \u001b[38;5;28;43mself\u001b[39;49m\u001b[38;5;241;43m.\u001b[39;49m\u001b[43m_parse_game_data\u001b[49m\u001b[43m(\u001b[49m\u001b[43muri\u001b[49m\u001b[43m)\u001b[49m\n",
      "File \u001b[1;32m~\\anaconda3\\lib\\site-packages\\sportsipy\\nfl\\boxscore.py:802\u001b[0m, in \u001b[0;36mBoxscore._parse_game_data\u001b[1;34m(self, uri)\u001b[0m\n\u001b[0;32m    800\u001b[0m \u001b[38;5;28mself\u001b[39m\u001b[38;5;241m.\u001b[39m_parse_game_details(boxscore)\n\u001b[0;32m    801\u001b[0m \u001b[38;5;28mself\u001b[39m\u001b[38;5;241m.\u001b[39m_away_abbr, \u001b[38;5;28mself\u001b[39m\u001b[38;5;241m.\u001b[39m_home_abbr \u001b[38;5;241m=\u001b[39m \u001b[38;5;28mself\u001b[39m\u001b[38;5;241m.\u001b[39m_alt_abbreviations(boxscore)\n\u001b[1;32m--> 802\u001b[0m \u001b[38;5;28mself\u001b[39m\u001b[38;5;241m.\u001b[39m_away_players, \u001b[38;5;28mself\u001b[39m\u001b[38;5;241m.\u001b[39m_home_players \u001b[38;5;241m=\u001b[39m \u001b[38;5;28;43mself\u001b[39;49m\u001b[38;5;241;43m.\u001b[39;49m\u001b[43m_find_players\u001b[49m\u001b[43m(\u001b[49m\u001b[43mboxscore\u001b[49m\u001b[43m)\u001b[49m\n",
      "File \u001b[1;32m~\\anaconda3\\lib\\site-packages\\sportsipy\\nfl\\boxscore.py:702\u001b[0m, in \u001b[0;36mBoxscore._find_players\u001b[1;34m(self, boxscore)\u001b[0m\n\u001b[0;32m    700\u001b[0m \u001b[38;5;28;01mfor\u001b[39;00m table \u001b[38;5;129;01min\u001b[39;00m tables:\n\u001b[0;32m    701\u001b[0m     player_dict \u001b[38;5;241m=\u001b[39m \u001b[38;5;28mself\u001b[39m\u001b[38;5;241m.\u001b[39m_extract_player_stats(table, player_dict)\n\u001b[1;32m--> 702\u001b[0m away_players, home_players \u001b[38;5;241m=\u001b[39m \u001b[38;5;28;43mself\u001b[39;49m\u001b[38;5;241;43m.\u001b[39;49m\u001b[43m_instantiate_players\u001b[49m\u001b[43m(\u001b[49m\u001b[43mplayer_dict\u001b[49m\u001b[43m)\u001b[49m\n\u001b[0;32m    703\u001b[0m \u001b[38;5;28;01mreturn\u001b[39;00m away_players, home_players\n",
      "File \u001b[1;32m~\\anaconda3\\lib\\site-packages\\sportsipy\\nfl\\boxscore.py:667\u001b[0m, in \u001b[0;36mBoxscore._instantiate_players\u001b[1;34m(self, player_dict)\u001b[0m\n\u001b[0;32m    665\u001b[0m away_players \u001b[38;5;241m=\u001b[39m []\n\u001b[0;32m    666\u001b[0m \u001b[38;5;28;01mfor\u001b[39;00m player_id, details \u001b[38;5;129;01min\u001b[39;00m player_dict\u001b[38;5;241m.\u001b[39mitems():\n\u001b[1;32m--> 667\u001b[0m     player \u001b[38;5;241m=\u001b[39m \u001b[43mBoxscorePlayer\u001b[49m\u001b[43m(\u001b[49m\u001b[43mplayer_id\u001b[49m\u001b[43m,\u001b[49m\n\u001b[0;32m    668\u001b[0m \u001b[43m                            \u001b[49m\u001b[43mdetails\u001b[49m\u001b[43m[\u001b[49m\u001b[38;5;124;43m'\u001b[39;49m\u001b[38;5;124;43mname\u001b[39;49m\u001b[38;5;124;43m'\u001b[39;49m\u001b[43m]\u001b[49m\u001b[43m,\u001b[49m\n\u001b[0;32m    669\u001b[0m \u001b[43m                            \u001b[49m\u001b[43mdetails\u001b[49m\u001b[43m[\u001b[49m\u001b[38;5;124;43m'\u001b[39;49m\u001b[38;5;124;43mdata\u001b[39;49m\u001b[38;5;124;43m'\u001b[39;49m\u001b[43m]\u001b[49m\u001b[43m)\u001b[49m\n\u001b[0;32m    670\u001b[0m     \u001b[38;5;28;01mif\u001b[39;00m details[\u001b[38;5;124m'\u001b[39m\u001b[38;5;124mteam\u001b[39m\u001b[38;5;124m'\u001b[39m] \u001b[38;5;241m==\u001b[39m HOME:\n\u001b[0;32m    671\u001b[0m         home_players\u001b[38;5;241m.\u001b[39mappend(player)\n",
      "File \u001b[1;32m~\\anaconda3\\lib\\site-packages\\sportsipy\\nfl\\boxscore.py:87\u001b[0m, in \u001b[0;36mBoxscorePlayer.__init__\u001b[1;34m(self, player_id, player_name, player_data)\u001b[0m\n\u001b[0;32m     85\u001b[0m \u001b[38;5;28mself\u001b[39m\u001b[38;5;241m.\u001b[39m_quarterback_hits \u001b[38;5;241m=\u001b[39m \u001b[38;5;28;01mNone\u001b[39;00m\n\u001b[0;32m     86\u001b[0m \u001b[38;5;28mself\u001b[39m\u001b[38;5;241m.\u001b[39m_average_kickoff_return_yards \u001b[38;5;241m=\u001b[39m \u001b[38;5;28;01mNone\u001b[39;00m\n\u001b[1;32m---> 87\u001b[0m \u001b[43mAbstractPlayer\u001b[49m\u001b[38;5;241;43m.\u001b[39;49m\u001b[38;5;21;43m__init__\u001b[39;49m\u001b[43m(\u001b[49m\u001b[38;5;28;43mself\u001b[39;49m\u001b[43m,\u001b[49m\u001b[43m \u001b[49m\u001b[43mplayer_id\u001b[49m\u001b[43m,\u001b[49m\u001b[43m \u001b[49m\u001b[43mplayer_name\u001b[49m\u001b[43m,\u001b[49m\u001b[43m \u001b[49m\u001b[43mplayer_data\u001b[49m\u001b[43m)\u001b[49m\n",
      "File \u001b[1;32m~\\anaconda3\\lib\\site-packages\\sportsipy\\nfl\\player.py:144\u001b[0m, in \u001b[0;36mAbstractPlayer.__init__\u001b[1;34m(self, player_id, player_name, player_data)\u001b[0m\n\u001b[0;32m    141\u001b[0m \u001b[38;5;28mself\u001b[39m\u001b[38;5;241m.\u001b[39m_sacks \u001b[38;5;241m=\u001b[39m \u001b[38;5;28;01mNone\u001b[39;00m\n\u001b[0;32m    142\u001b[0m \u001b[38;5;28mself\u001b[39m\u001b[38;5;241m.\u001b[39m_assists_on_tackles \u001b[38;5;241m=\u001b[39m \u001b[38;5;28;01mNone\u001b[39;00m\n\u001b[1;32m--> 144\u001b[0m \u001b[38;5;28;43mself\u001b[39;49m\u001b[38;5;241;43m.\u001b[39;49m\u001b[43m_parse_player_data\u001b[49m\u001b[43m(\u001b[49m\u001b[43mplayer_data\u001b[49m\u001b[43m)\u001b[49m\n",
      "File \u001b[1;32m~\\anaconda3\\lib\\site-packages\\sportsipy\\nfl\\player.py:205\u001b[0m, in \u001b[0;36mAbstractPlayer._parse_player_data\u001b[1;34m(self, player_data)\u001b[0m\n\u001b[0;32m    203\u001b[0m         field_stats\u001b[38;5;241m.\u001b[39mappend(value)\n\u001b[0;32m    204\u001b[0m \u001b[38;5;28;01melse\u001b[39;00m:\n\u001b[1;32m--> 205\u001b[0m     stats \u001b[38;5;241m=\u001b[39m \u001b[43mpq\u001b[49m\u001b[43m(\u001b[49m\u001b[43mplayer_data\u001b[49m\u001b[43m)\u001b[49m\n\u001b[0;32m    206\u001b[0m     value \u001b[38;5;241m=\u001b[39m \u001b[38;5;28mself\u001b[39m\u001b[38;5;241m.\u001b[39m_parse_value(stats, short_field)\n\u001b[0;32m    207\u001b[0m     field_stats\u001b[38;5;241m.\u001b[39mappend(value)\n",
      "File \u001b[1;32m~\\anaconda3\\lib\\site-packages\\pyquery\\pyquery.py:217\u001b[0m, in \u001b[0;36mPyQuery.__init__\u001b[1;34m(self, *args, **kwargs)\u001b[0m\n\u001b[0;32m    215\u001b[0m \u001b[38;5;28;01mif\u001b[39;00m \u001b[38;5;28misinstance\u001b[39m(context, basestring):\n\u001b[0;32m    216\u001b[0m     \u001b[38;5;28;01mtry\u001b[39;00m:\n\u001b[1;32m--> 217\u001b[0m         elements \u001b[38;5;241m=\u001b[39m \u001b[43mfromstring\u001b[49m\u001b[43m(\u001b[49m\u001b[43mcontext\u001b[49m\u001b[43m,\u001b[49m\u001b[43m \u001b[49m\u001b[38;5;28;43mself\u001b[39;49m\u001b[38;5;241;43m.\u001b[39;49m\u001b[43mparser\u001b[49m\u001b[43m)\u001b[49m\n\u001b[0;32m    218\u001b[0m     \u001b[38;5;28;01mexcept\u001b[39;00m \u001b[38;5;167;01mException\u001b[39;00m:\n\u001b[0;32m    219\u001b[0m         \u001b[38;5;28;01mraise\u001b[39;00m\n",
      "File \u001b[1;32m~\\anaconda3\\lib\\site-packages\\pyquery\\pyquery.py:61\u001b[0m, in \u001b[0;36mfromstring\u001b[1;34m(context, parser, custom_parser)\u001b[0m\n\u001b[0;32m     59\u001b[0m     \u001b[38;5;28;01mif\u001b[39;00m \u001b[38;5;28mhasattr\u001b[39m(context, \u001b[38;5;124m'\u001b[39m\u001b[38;5;124mseek\u001b[39m\u001b[38;5;124m'\u001b[39m):\n\u001b[0;32m     60\u001b[0m         context\u001b[38;5;241m.\u001b[39mseek(\u001b[38;5;241m0\u001b[39m)\n\u001b[1;32m---> 61\u001b[0m     result \u001b[38;5;241m=\u001b[39m \u001b[38;5;28;43mgetattr\u001b[39;49m\u001b[43m(\u001b[49m\u001b[43mlxml\u001b[49m\u001b[38;5;241;43m.\u001b[39;49m\u001b[43mhtml\u001b[49m\u001b[43m,\u001b[49m\u001b[43m \u001b[49m\u001b[43mmeth\u001b[49m\u001b[43m)\u001b[49m\u001b[43m(\u001b[49m\u001b[43mcontext\u001b[49m\u001b[43m)\u001b[49m\n\u001b[0;32m     62\u001b[0m \u001b[38;5;28;01mif\u001b[39;00m \u001b[38;5;28misinstance\u001b[39m(result, etree\u001b[38;5;241m.\u001b[39m_ElementTree):\n\u001b[0;32m     63\u001b[0m     \u001b[38;5;28;01mreturn\u001b[39;00m [result\u001b[38;5;241m.\u001b[39mgetroot()]\n",
      "File \u001b[1;32m~\\anaconda3\\lib\\site-packages\\lxml\\html\\__init__.py:875\u001b[0m, in \u001b[0;36mfromstring\u001b[1;34m(html, base_url, parser, **kw)\u001b[0m\n\u001b[0;32m    873\u001b[0m \u001b[38;5;28;01melse\u001b[39;00m:\n\u001b[0;32m    874\u001b[0m     is_full_html \u001b[38;5;241m=\u001b[39m _looks_like_full_html_unicode(html)\n\u001b[1;32m--> 875\u001b[0m doc \u001b[38;5;241m=\u001b[39m \u001b[43mdocument_fromstring\u001b[49m\u001b[43m(\u001b[49m\u001b[43mhtml\u001b[49m\u001b[43m,\u001b[49m\u001b[43m \u001b[49m\u001b[43mparser\u001b[49m\u001b[38;5;241;43m=\u001b[39;49m\u001b[43mparser\u001b[49m\u001b[43m,\u001b[49m\u001b[43m \u001b[49m\u001b[43mbase_url\u001b[49m\u001b[38;5;241;43m=\u001b[39;49m\u001b[43mbase_url\u001b[49m\u001b[43m,\u001b[49m\u001b[43m \u001b[49m\u001b[38;5;241;43m*\u001b[39;49m\u001b[38;5;241;43m*\u001b[39;49m\u001b[43mkw\u001b[49m\u001b[43m)\u001b[49m\n\u001b[0;32m    876\u001b[0m \u001b[38;5;28;01mif\u001b[39;00m is_full_html:\n\u001b[0;32m    877\u001b[0m     \u001b[38;5;28;01mreturn\u001b[39;00m doc\n",
      "File \u001b[1;32m~\\anaconda3\\lib\\site-packages\\lxml\\html\\__init__.py:761\u001b[0m, in \u001b[0;36mdocument_fromstring\u001b[1;34m(html, parser, ensure_head_body, **kw)\u001b[0m\n\u001b[0;32m    759\u001b[0m \u001b[38;5;28;01mif\u001b[39;00m parser \u001b[38;5;129;01mis\u001b[39;00m \u001b[38;5;28;01mNone\u001b[39;00m:\n\u001b[0;32m    760\u001b[0m     parser \u001b[38;5;241m=\u001b[39m html_parser\n\u001b[1;32m--> 761\u001b[0m value \u001b[38;5;241m=\u001b[39m \u001b[43metree\u001b[49m\u001b[38;5;241;43m.\u001b[39;49m\u001b[43mfromstring\u001b[49m\u001b[43m(\u001b[49m\u001b[43mhtml\u001b[49m\u001b[43m,\u001b[49m\u001b[43m \u001b[49m\u001b[43mparser\u001b[49m\u001b[43m,\u001b[49m\u001b[43m \u001b[49m\u001b[38;5;241;43m*\u001b[39;49m\u001b[38;5;241;43m*\u001b[39;49m\u001b[43mkw\u001b[49m\u001b[43m)\u001b[49m\n\u001b[0;32m    762\u001b[0m \u001b[38;5;28;01mif\u001b[39;00m value \u001b[38;5;129;01mis\u001b[39;00m \u001b[38;5;28;01mNone\u001b[39;00m:\n\u001b[0;32m    763\u001b[0m     \u001b[38;5;28;01mraise\u001b[39;00m etree\u001b[38;5;241m.\u001b[39mParserError(\n\u001b[0;32m    764\u001b[0m         \u001b[38;5;124m\"\u001b[39m\u001b[38;5;124mDocument is empty\u001b[39m\u001b[38;5;124m\"\u001b[39m)\n",
      "File \u001b[1;32msrc/lxml/etree.pyx:3253\u001b[0m, in \u001b[0;36mlxml.etree.fromstring\u001b[1;34m()\u001b[0m\n",
      "File \u001b[1;32msrc/lxml/etree.pyx:377\u001b[0m, in \u001b[0;36mlxml.etree._Document.getroot\u001b[1;34m()\u001b[0m\n",
      "File \u001b[1;32msrc/lxml/etree.pyx:1627\u001b[0m, in \u001b[0;36mlxml.etree._elementFactory\u001b[1;34m()\u001b[0m\n",
      "File \u001b[1;32msrc/lxml/classlookup.pxi:403\u001b[0m, in \u001b[0;36mlxml.etree._parser_class_lookup\u001b[1;34m()\u001b[0m\n",
      "File \u001b[1;32msrc/lxml/classlookup.pxi:456\u001b[0m, in \u001b[0;36mlxml.etree._custom_class_lookup\u001b[1;34m()\u001b[0m\n",
      "File \u001b[1;32m~\\anaconda3\\lib\\site-packages\\lxml\\html\\__init__.py:735\u001b[0m, in \u001b[0;36mHtmlElementClassLookup.lookup\u001b[1;34m(self, node_type, document, namespace, name)\u001b[0m\n\u001b[0;32m    732\u001b[0m             classes[name] \u001b[38;5;241m=\u001b[39m \u001b[38;5;28mtype\u001b[39m(cur\u001b[38;5;241m.\u001b[39m\u001b[38;5;18m__name__\u001b[39m, bases, {})\n\u001b[0;32m    733\u001b[0m     \u001b[38;5;28mself\u001b[39m\u001b[38;5;241m.\u001b[39m_element_classes \u001b[38;5;241m=\u001b[39m classes\n\u001b[1;32m--> 735\u001b[0m \u001b[38;5;28;01mdef\u001b[39;00m \u001b[38;5;21mlookup\u001b[39m(\u001b[38;5;28mself\u001b[39m, node_type, document, namespace, name):\n\u001b[0;32m    736\u001b[0m     \u001b[38;5;28;01mif\u001b[39;00m node_type \u001b[38;5;241m==\u001b[39m \u001b[38;5;124m'\u001b[39m\u001b[38;5;124melement\u001b[39m\u001b[38;5;124m'\u001b[39m:\n\u001b[0;32m    737\u001b[0m         \u001b[38;5;28;01mreturn\u001b[39;00m \u001b[38;5;28mself\u001b[39m\u001b[38;5;241m.\u001b[39m_element_classes\u001b[38;5;241m.\u001b[39mget(name\u001b[38;5;241m.\u001b[39mlower(), HtmlElement)\n",
      "\u001b[1;31mKeyboardInterrupt\u001b[0m: "
     ]
    }
   ],
   "source": [
    "df = pd.DataFrame()\n",
    "for i in range(n_games): #iterate through each game\n",
    "    game_id = games_012021[i]['boxscore'][:12]\n",
    "    game_bs = Boxscore(game_id)\n",
    "    game_df = game_bs.dataframe\n",
    "    df = pd.concat([df,game_df], axis=0)\n",
    "    print(f\"Completed Game Number: {i+1}\")\n",
    "df.head()"
   ]
  },
  {
   "cell_type": "code",
   "execution_count": 102,
   "id": "9d949ce1-089b-443a-ad17-8c2acac84939",
   "metadata": {},
   "outputs": [
    {
     "data": {
      "text/plain": [
       "Index(['attendance', 'away_first_downs', 'away_fourth_down_attempts',\n",
       "       'away_fourth_down_conversions', 'away_fumbles', 'away_fumbles_lost',\n",
       "       'away_interceptions', 'away_net_pass_yards', 'away_pass_attempts',\n",
       "       'away_pass_completions', 'away_pass_touchdowns', 'away_pass_yards',\n",
       "       'away_penalties', 'away_points', 'away_rush_attempts',\n",
       "       'away_rush_touchdowns', 'away_rush_yards', 'away_third_down_attempts',\n",
       "       'away_third_down_conversions', 'away_time_of_possession',\n",
       "       'away_times_sacked', 'away_total_yards', 'away_turnovers',\n",
       "       'away_yards_from_penalties', 'away_yards_lost_from_sacks', 'date',\n",
       "       'datetime', 'duration', 'home_first_downs', 'home_fourth_down_attempts',\n",
       "       'home_fourth_down_conversions', 'home_fumbles', 'home_fumbles_lost',\n",
       "       'home_interceptions', 'home_net_pass_yards', 'home_pass_attempts',\n",
       "       'home_pass_completions', 'home_pass_touchdowns', 'home_pass_yards',\n",
       "       'home_penalties', 'home_points', 'home_rush_attempts',\n",
       "       'home_rush_touchdowns', 'home_rush_yards', 'home_third_down_attempts',\n",
       "       'home_third_down_conversions', 'home_time_of_possession',\n",
       "       'home_times_sacked', 'home_total_yards', 'home_turnovers',\n",
       "       'home_yards_from_penalties', 'home_yards_lost_from_sacks',\n",
       "       'losing_abbr', 'losing_name', 'over_under', 'roof', 'stadium',\n",
       "       'surface', 'time', 'vegas_line', 'weather', 'winner', 'winning_abbr',\n",
       "       'winning_name', 'won_toss'],\n",
       "      dtype='object')"
      ]
     },
     "execution_count": 102,
     "metadata": {},
     "output_type": "execute_result"
    }
   ],
   "source": [
    "df.columns"
   ]
  },
  {
   "cell_type": "markdown",
   "id": "0a4b2897-b0c6-44ae-a8cb-75588d46d352",
   "metadata": {},
   "source": [
    "May need to extract 'home team' and 'away team' from the Boxscores Class"
   ]
  },
  {
   "cell_type": "code",
   "execution_count": null,
   "id": "26328828-52b4-413f-b138-1d922e73ca77",
   "metadata": {},
   "outputs": [],
   "source": []
  }
 ],
 "metadata": {
  "kernelspec": {
   "display_name": "Python 3 (ipykernel)",
   "language": "python",
   "name": "python3"
  },
  "language_info": {
   "codemirror_mode": {
    "name": "ipython",
    "version": 3
   },
   "file_extension": ".py",
   "mimetype": "text/x-python",
   "name": "python",
   "nbconvert_exporter": "python",
   "pygments_lexer": "ipython3",
   "version": "3.8.13"
  }
 },
 "nbformat": 4,
 "nbformat_minor": 5
}
