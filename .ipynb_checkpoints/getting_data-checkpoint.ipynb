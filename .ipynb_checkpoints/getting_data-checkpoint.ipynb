{
 "cells": [
  {
   "cell_type": "markdown",
   "id": "015a20b1-6bd8-4c6c-94f2-a2dd3a4c5eda",
   "metadata": {},
   "source": [
    "# Loading Data (Scope Approval)"
   ]
  },
  {
   "cell_type": "code",
   "execution_count": null,
   "id": "7e17eab2-6b84-4647-836b-f7b3bef47ec4",
   "metadata": {},
   "outputs": [],
   "source": []
  },
  {
   "cell_type": "code",
   "execution_count": 10,
   "id": "a1784bfb-9d31-4104-9ed8-837d829a8a8b",
   "metadata": {},
   "outputs": [],
   "source": [
    "# Using Pandas and sportsipy library\n",
    "import pandas as pd\n",
    "from sportsipy.nfl.boxscore import Boxscore, Boxscores\n",
    "from sportsipy.nfl.teams import Team, Teams\n",
    "from sportsipy.nfl.player import AbstractPlayer"
   ]
  },
  {
   "cell_type": "code",
   "execution_count": 7,
   "id": "a4c65668-4d64-4426-bf01-20235251e36c",
   "metadata": {},
   "outputs": [],
   "source": [
    "bs = Boxscore('201802040nwe').dataframe"
   ]
  },
  {
   "cell_type": "code",
   "execution_count": 9,
   "id": "34ef0d73-ff9f-42c4-9a0f-a046d0a53eec",
   "metadata": {},
   "outputs": [
    {
     "data": {
      "text/html": [
       "<div>\n",
       "<style scoped>\n",
       "    .dataframe tbody tr th:only-of-type {\n",
       "        vertical-align: middle;\n",
       "    }\n",
       "\n",
       "    .dataframe tbody tr th {\n",
       "        vertical-align: top;\n",
       "    }\n",
       "\n",
       "    .dataframe thead th {\n",
       "        text-align: right;\n",
       "    }\n",
       "</style>\n",
       "<table border=\"1\" class=\"dataframe\">\n",
       "  <thead>\n",
       "    <tr style=\"text-align: right;\">\n",
       "      <th></th>\n",
       "      <th>attendance</th>\n",
       "      <th>away_first_downs</th>\n",
       "      <th>away_fourth_down_attempts</th>\n",
       "      <th>away_fourth_down_conversions</th>\n",
       "      <th>away_fumbles</th>\n",
       "      <th>away_fumbles_lost</th>\n",
       "      <th>away_interceptions</th>\n",
       "      <th>away_net_pass_yards</th>\n",
       "      <th>away_pass_attempts</th>\n",
       "      <th>away_pass_completions</th>\n",
       "      <th>...</th>\n",
       "      <th>roof</th>\n",
       "      <th>stadium</th>\n",
       "      <th>surface</th>\n",
       "      <th>time</th>\n",
       "      <th>vegas_line</th>\n",
       "      <th>weather</th>\n",
       "      <th>winner</th>\n",
       "      <th>winning_abbr</th>\n",
       "      <th>winning_name</th>\n",
       "      <th>won_toss</th>\n",
       "    </tr>\n",
       "  </thead>\n",
       "  <tbody>\n",
       "    <tr>\n",
       "      <th>201802040nwe</th>\n",
       "      <td>67612</td>\n",
       "      <td>25</td>\n",
       "      <td>2</td>\n",
       "      <td>2</td>\n",
       "      <td>0</td>\n",
       "      <td>0</td>\n",
       "      <td>1</td>\n",
       "      <td>374</td>\n",
       "      <td>44</td>\n",
       "      <td>29</td>\n",
       "      <td>...</td>\n",
       "      <td>Dome</td>\n",
       "      <td>U.S. Bank Stadium</td>\n",
       "      <td>Sportturf</td>\n",
       "      <td>6:30pm</td>\n",
       "      <td>New England Patriots -4.5</td>\n",
       "      <td>None</td>\n",
       "      <td>Away</td>\n",
       "      <td>PHI</td>\n",
       "      <td>Philadelphia Eagles\\n41\\n16-3\\nPrev Game\\nCoac...</td>\n",
       "      <td>Patriots (deferred)</td>\n",
       "    </tr>\n",
       "  </tbody>\n",
       "</table>\n",
       "<p>1 rows × 65 columns</p>\n",
       "</div>"
      ],
      "text/plain": [
       "              attendance  away_first_downs  away_fourth_down_attempts  \\\n",
       "201802040nwe       67612                25                          2   \n",
       "\n",
       "              away_fourth_down_conversions  away_fumbles  away_fumbles_lost  \\\n",
       "201802040nwe                             2             0                  0   \n",
       "\n",
       "              away_interceptions  away_net_pass_yards  away_pass_attempts  \\\n",
       "201802040nwe                   1                  374                  44   \n",
       "\n",
       "              away_pass_completions  ...  roof            stadium    surface  \\\n",
       "201802040nwe                     29  ...  Dome  U.S. Bank Stadium  Sportturf   \n",
       "\n",
       "                time                 vegas_line  weather  winner  \\\n",
       "201802040nwe  6:30pm  New England Patriots -4.5     None    Away   \n",
       "\n",
       "              winning_abbr                                       winning_name  \\\n",
       "201802040nwe           PHI  Philadelphia Eagles\\n41\\n16-3\\nPrev Game\\nCoac...   \n",
       "\n",
       "                         won_toss  \n",
       "201802040nwe  Patriots (deferred)  \n",
       "\n",
       "[1 rows x 65 columns]"
      ]
     },
     "execution_count": 9,
     "metadata": {},
     "output_type": "execute_result"
    }
   ],
   "source": [
    "bs.head()"
   ]
  },
  {
   "cell_type": "code",
   "execution_count": null,
   "id": "8d59c974-e711-4171-ba47-844ea265be7f",
   "metadata": {},
   "outputs": [],
   "source": []
  }
 ],
 "metadata": {
  "kernelspec": {
   "display_name": "Python 3 (ipykernel)",
   "language": "python",
   "name": "python3"
  },
  "language_info": {
   "codemirror_mode": {
    "name": "ipython",
    "version": 3
   },
   "file_extension": ".py",
   "mimetype": "text/x-python",
   "name": "python",
   "nbconvert_exporter": "python",
   "pygments_lexer": "ipython3",
   "version": "3.8.13"
  }
 },
 "nbformat": 4,
 "nbformat_minor": 5
}
