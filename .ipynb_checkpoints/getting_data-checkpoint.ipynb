{
 "cells": [
  {
   "cell_type": "markdown",
   "id": "015a20b1-6bd8-4c6c-94f2-a2dd3a4c5eda",
   "metadata": {},
   "source": [
    "# Loading Data (Scope Approval)"
   ]
  },
  {
   "cell_type": "code",
   "execution_count": 1,
   "id": "a1784bfb-9d31-4104-9ed8-837d829a8a8b",
   "metadata": {},
   "outputs": [],
   "source": [
    "# Using Pandas and sportsipy library\n",
    "import pandas as pd\n",
    "from sportsipy.nfl.boxscore import Boxscore, Boxscores\n",
    "from sportsipy.nfl.teams import Team, Teams\n",
    "from sportsipy.nfl.player import AbstractPlayer"
   ]
  },
  {
   "cell_type": "code",
   "execution_count": null,
   "id": "dc35c2ee-3b3e-45f1-85ad-5e623853c5c7",
   "metadata": {},
   "outputs": [],
   "source": []
  }
 ],
 "metadata": {
  "kernelspec": {
   "display_name": "Python 3 (ipykernel)",
   "language": "python",
   "name": "python3"
  },
  "language_info": {
   "codemirror_mode": {
    "name": "ipython",
    "version": 3
   },
   "file_extension": ".py",
   "mimetype": "text/x-python",
   "name": "python",
   "nbconvert_exporter": "python",
   "pygments_lexer": "ipython3",
   "version": "3.8.13"
  }
 },
 "nbformat": 4,
 "nbformat_minor": 5
}
